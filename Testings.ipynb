{
 "cells": [
  {
   "cell_type": "code",
   "execution_count": 4,
   "metadata": {},
   "outputs": [
    {
     "data": {
      "text/plain": [
       "['indefinite_number_of_strings.py',\n",
       " 'basics',\n",
       " 'temp_conv.py',\n",
       " 'Testings.ipynb',\n",
       " 'str_length.py',\n",
       " '.DS_Store',\n",
       " 'file_processing',\n",
       " 'practice.py',\n",
       " 'fruits.py',\n",
       " 'list_comprehensions',\n",
       " 'basics.py',\n",
       " 'open_file.py',\n",
       " 'args.py',\n",
       " '.ipynb_checkpoints',\n",
       " 'errors.py',\n",
       " 'beyond_basics',\n",
       " 'errors',\n",
       " '.git',\n",
       " 'kwargs.py',\n",
       " 'apps',\n",
       " 'pandas',\n",
       " 'sample.txt']"
      ]
     },
     "execution_count": 4,
     "metadata": {},
     "output_type": "execute_result"
    }
   ],
   "source": [
    "import os\n",
    "os.listdir()\n"
   ]
  },
  {
   "cell_type": "code",
   "execution_count": null,
   "metadata": {},
   "outputs": [],
   "source": []
  },
  {
   "cell_type": "code",
   "execution_count": null,
   "metadata": {},
   "outputs": [],
   "source": []
  },
  {
   "cell_type": "code",
   "execution_count": null,
   "metadata": {},
   "outputs": [],
   "source": []
  }
 ],
 "metadata": {
  "kernelspec": {
   "display_name": "Python 3",
   "language": "python",
   "name": "python3"
  },
  "language_info": {
   "codemirror_mode": {
    "name": "ipython",
    "version": 3
   },
   "file_extension": ".py",
   "mimetype": "text/x-python",
   "name": "python",
   "nbconvert_exporter": "python",
   "pygments_lexer": "ipython3",
   "version": "3.7.3"
  }
 },
 "nbformat": 4,
 "nbformat_minor": 2
}
